{
  "nbformat": 4,
  "nbformat_minor": 0,
  "metadata": {
    "colab": {
      "provenance": []
    },
    "kernelspec": {
      "name": "python3",
      "display_name": "Python 3"
    },
    "language_info": {
      "name": "python"
    }
  },
  "cells": [
    {
      "cell_type": "markdown",
      "source": [
        "Cipher's Binary"
      ],
      "metadata": {
        "id": "qNmcXxxmmRoa"
      }
    },
    {
      "cell_type": "code",
      "source": [
        "# Break space alt+0160\n",
        "cipher = \" \"\n",
        "binary = ''.join(format(ord(i), '08b') for i in cipher)\n",
        "conv_str = str(binary)\n",
        "print(\"The Cipher: \" + conv_str)"
      ],
      "metadata": {
        "colab": {
          "base_uri": "https://localhost:8080/"
        },
        "id": "h9Tj_WfymTYP",
        "outputId": "0ea97cb8-9c55-4e67-8740-2136a75649c1"
      },
      "execution_count": 3,
      "outputs": [
        {
          "output_type": "stream",
          "name": "stdout",
          "text": [
            "The Cipher: 10100000\n"
          ]
        }
      ]
    },
    {
      "cell_type": "code",
      "execution_count": 4,
      "metadata": {
        "id": "P618feN4jo70"
      },
      "outputs": [],
      "source": [
        "gpt_content = \"\"\"\"It was a bright, sunny day in the small town of Oakdale. The birds were chirping and the flowers were in bloom. Emily, a curious young girl, decided to go on a nature walk to explore the beauty of the outdoors. She packed a backpack with some snacks and a bottle of water, and set off down the trail.\n",
        "\n",
        "As she walked, she marveled at the tall trees and colorful flowers. She saw a family of rabbits playing in the grass and a squirrel running up a tree. Emily felt a sense of peace and happiness as she took in the sights and sounds of nature.\n",
        "\n",
        "After a while, she came across a small pond where she sat down to rest. She closed her eyes and listened to the soothing sound of the water. It was the perfect moment of calm and tranquility.\n",
        "\n",
        "As the sun began to set, Emily reluctantly headed back home, already planning her next nature walk. She felt grateful for the opportunity to explore and appreciate the beauty of the world around her.\"\"\""
      ]
    },
    {
      "cell_type": "markdown",
      "source": [
        "Converting to binary for the gpt content"
      ],
      "metadata": {
        "id": "zC11ZhHRpQ_j"
      }
    },
    {
      "cell_type": "code",
      "source": [
        "binary_cipher = ''.join(format(ord(i), '08b') for i in gpt_content)\n",
        "convert_str = str(binary_cipher)"
      ],
      "metadata": {
        "id": "13pQEiKYoHPS"
      },
      "execution_count": 5,
      "outputs": []
    },
    {
      "cell_type": "markdown",
      "source": [
        "Check whether the cipher exists or not"
      ],
      "metadata": {
        "id": "40nvjF1spUyh"
      }
    },
    {
      "cell_type": "code",
      "source": [
        "if conv_str in convert_str:\n",
        "  print(\"GPT-3.5 was used!\")\n",
        "else:\n",
        "  print(\"Original work of the author.\")"
      ],
      "metadata": {
        "colab": {
          "base_uri": "https://localhost:8080/"
        },
        "id": "NU19qNRFpdsa",
        "outputId": "9ddc4634-7215-4999-96a5-7a7d89aa3e73"
      },
      "execution_count": 6,
      "outputs": [
        {
          "output_type": "stream",
          "name": "stdout",
          "text": [
            "GPT-3.5 was used!\n"
          ]
        }
      ]
    }
  ]
}