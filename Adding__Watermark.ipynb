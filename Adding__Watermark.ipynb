{
  "nbformat": 4,
  "nbformat_minor": 0,
  "metadata": {
    "colab": {
      "provenance": []
    },
    "kernelspec": {
      "name": "python3",
      "display_name": "Python 3"
    },
    "language_info": {
      "name": "python"
    }
  },
  "cells": [
    {
      "cell_type": "markdown",
      "source": [
        "Cipher's Binary"
      ],
      "metadata": {
        "id": "0LzBAkujwd-J"
      }
    },
    {
      "cell_type": "code",
      "execution_count": 1,
      "metadata": {
        "colab": {
          "base_uri": "https://localhost:8080/"
        },
        "id": "iatRu3b2wWA_",
        "outputId": "fb3daa81-59d3-4190-87a5-f6291d818def"
      },
      "outputs": [
        {
          "output_type": "stream",
          "name": "stdout",
          "text": [
            "The Cipher: 10100000\n"
          ]
        }
      ],
      "source": [
        "# Break space alt+0160\n",
        "cipher = \" \"\n",
        "binary = ''.join(format(ord(i), '08b') for i in cipher)\n",
        "conv_str = str(binary)\n",
        "print(\"The Cipher: \" + conv_str)"
      ]
    },
    {
      "cell_type": "markdown",
      "source": [
        "Removing the cipher with space"
      ],
      "metadata": {
        "id": "WY5aXNWmwlrJ"
      }
    },
    {
      "cell_type": "code",
      "source": [
        "# Replacing with actual space\n",
        "cipher = \" \"\n",
        "binary = ''.join(format(ord(i), '08b') for i in cipher)\n",
        "cip_str = str(binary)\n",
        "print(\"The Cipher: \" + cip_str)"
      ],
      "metadata": {
        "colab": {
          "base_uri": "https://localhost:8080/"
        },
        "id": "WOEQTDcPwpPO",
        "outputId": "47516360-7799-47a1-cffe-e7faf9c908b3"
      },
      "execution_count": 2,
      "outputs": [
        {
          "output_type": "stream",
          "name": "stdout",
          "text": [
            "The Cipher: 00100000\n"
          ]
        }
      ]
    },
    {
      "cell_type": "markdown",
      "source": [
        "gpt content with cipher"
      ],
      "metadata": {
        "id": "4BesT44Ew21W"
      }
    },
    {
      "cell_type": "code",
      "source": [
        "gpt_content = \"\"\"\"It was a bright, sunny day in the small town of Oakdale. The birds were chirping and the flowers were in bloom. Emily, a curious young girl, decided to go on a nature walk to explore the beauty of the outdoors. She packed a backpack with some snacks and a bottle of water, and set off down the trail.\n",
        "\n",
        "As she walked, she marveled at the tall trees and colorful flowers. She saw a family of rabbits playing in the grass and a squirrel running up a tree. Emily felt a sense of peace and happiness as she took in the sights and sounds of nature.\n",
        "\n",
        "After a while, she came across a small pond where she sat down to rest. She closed her eyes and listened to the soothing sound of the water. It was the perfect moment of calm and tranquility.\n",
        "\n",
        "As the sun began to set, Emily reluctantly headed back home, already planning her next nature walk. She felt grateful for the opportunity to explore and appreciate the beauty of the world around her.\"\"\""
      ],
      "metadata": {
        "id": "0S4o4W2Hw59u"
      },
      "execution_count": 3,
      "outputs": []
    },
    {
      "cell_type": "markdown",
      "source": [
        "Converting to binary for the gpt content"
      ],
      "metadata": {
        "id": "KXN6nlxtw9F-"
      }
    },
    {
      "cell_type": "code",
      "source": [
        "binary_cipher = ''.join(format(ord(i), '08b') for i in gpt_content)\n",
        "convert_str = str(binary_cipher)"
      ],
      "metadata": {
        "id": "VG_giqQkw6xO"
      },
      "execution_count": 4,
      "outputs": []
    },
    {
      "cell_type": "code",
      "source": [
        "if cip_str in convert_str:\n",
        "  print(\"Original Work\")\n",
        "  rep = convert_str.replace(cip_str, conv_str)\n",
        "  print(\"Now, it's Watermarked and created by ChatGPT\")"
      ],
      "metadata": {
        "colab": {
          "base_uri": "https://localhost:8080/"
        },
        "id": "eSH_haHlw6wC",
        "outputId": "71fca15d-89fa-499c-df2a-be0d1bb19c1f"
      },
      "execution_count": 6,
      "outputs": [
        {
          "output_type": "stream",
          "name": "stdout",
          "text": [
            "Original Work\n",
            "Now, it's Watermarked and created by ChatGPT\n"
          ]
        }
      ]
    }
  ]
}